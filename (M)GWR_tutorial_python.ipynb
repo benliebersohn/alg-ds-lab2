{
  "cells": [
    {
      "cell_type": "markdown",
      "metadata": {
        "id": "view-in-github",
        "colab_type": "text"
      },
      "source": [
        "<a href=\"https://colab.research.google.com/github/benliebersohn/alg-ds-lab2/blob/master/(M)GWR_tutorial_python.ipynb\" target=\"_parent\"><img src=\"https://colab.research.google.com/assets/colab-badge.svg\" alt=\"Open In Colab\"/></a>"
      ]
    },
    {
      "cell_type": "markdown",
      "metadata": {
        "id": "6DuOOv3FxCV5"
      },
      "source": [
        "### GWR/MGWR example\n",
        "***\n",
        "This is an example notebook showing you how to calibrate a GWR and an MGWR model in Python using `mgwr` package.\n",
        "***\n",
        "We will be working on an example dataset of Georgia, and here are some variables in the table.\n",
        "\n",
        "**TotPop90** Population of the county in 1990\n",
        "\n",
        "**PctRural** Percentage of the county population defined as rural\n",
        "\n",
        "**PctBach** Percentage of the county population with a bachelor’s degree\n",
        "\n",
        "**PctEld** Percentage of the county population aged 65 or over\n",
        "\n",
        "**PctFB** Percentage of the county population born outside the US\n",
        "\n",
        "**PctPov** Percentage of the county population living below the poverty line\n",
        "\n",
        "**PctBlack** Percentage of the county population who are black  \n",
        "\n",
        "\n",
        "***\n",
        "We will model the county-level educational attainment with several socio-demographic variables.  \n",
        "\n",
        "\n",
        "\n",
        "The model is:  \n",
        "\n",
        "PctBach = b0 + b1 * PctFB + b2 * PctBlack + b3 * PctRural\n",
        "\n"
      ]
    },
    {
      "cell_type": "code",
      "execution_count": 6,
      "metadata": {
        "colab": {
          "base_uri": "https://localhost:8080/"
        },
        "id": "YXiS1sA9xCV7",
        "outputId": "38bb30ac-5244-4219-cdaa-b300061fcabd"
      },
      "outputs": [
        {
          "output_type": "stream",
          "name": "stdout",
          "text": [
            "Requirement already satisfied: mgwr in /usr/local/lib/python3.10/dist-packages (2.1.2)\n",
            "Requirement already satisfied: scipy>=0.11 in /usr/local/lib/python3.10/dist-packages (from mgwr) (1.11.3)\n",
            "Requirement already satisfied: numpy>=1.3 in /usr/local/lib/python3.10/dist-packages (from mgwr) (1.23.5)\n",
            "Requirement already satisfied: libpysal>=4.0.0 in /usr/local/lib/python3.10/dist-packages (from mgwr) (4.8.0)\n",
            "Requirement already satisfied: spglm>=1.0.6 in /usr/local/lib/python3.10/dist-packages (from mgwr) (1.1.0)\n",
            "Requirement already satisfied: spreg in /usr/local/lib/python3.10/dist-packages (from mgwr) (1.4.1)\n",
            "Requirement already satisfied: platformdirs>=2.0.2 in /usr/local/lib/python3.10/dist-packages (from libpysal>=4.0.0->mgwr) (3.11.0)\n",
            "Requirement already satisfied: beautifulsoup4>=4.10 in /usr/local/lib/python3.10/dist-packages (from libpysal>=4.0.0->mgwr) (4.11.2)\n",
            "Requirement already satisfied: geopandas>=0.9 in /usr/local/lib/python3.10/dist-packages (from libpysal>=4.0.0->mgwr) (0.13.2)\n",
            "Requirement already satisfied: shapely>=2 in /usr/local/lib/python3.10/dist-packages (from libpysal>=4.0.0->mgwr) (2.0.2)\n",
            "Requirement already satisfied: pandas>=1.4 in /usr/local/lib/python3.10/dist-packages (from libpysal>=4.0.0->mgwr) (1.5.3)\n",
            "Requirement already satisfied: requests in /usr/local/lib/python3.10/dist-packages (from libpysal>=4.0.0->mgwr) (2.31.0)\n",
            "Requirement already satisfied: packaging in /usr/local/lib/python3.10/dist-packages (from libpysal>=4.0.0->mgwr) (23.2)\n",
            "Requirement already satisfied: scikit-learn>=0.22 in /usr/local/lib/python3.10/dist-packages (from spreg->mgwr) (1.2.2)\n",
            "Requirement already satisfied: soupsieve>1.2 in /usr/local/lib/python3.10/dist-packages (from beautifulsoup4>=4.10->libpysal>=4.0.0->mgwr) (2.5)\n",
            "Requirement already satisfied: fiona>=1.8.19 in /usr/local/lib/python3.10/dist-packages (from geopandas>=0.9->libpysal>=4.0.0->mgwr) (1.9.5)\n",
            "Requirement already satisfied: pyproj>=3.0.1 in /usr/local/lib/python3.10/dist-packages (from geopandas>=0.9->libpysal>=4.0.0->mgwr) (3.6.1)\n",
            "Requirement already satisfied: python-dateutil>=2.8.1 in /usr/local/lib/python3.10/dist-packages (from pandas>=1.4->libpysal>=4.0.0->mgwr) (2.8.2)\n",
            "Requirement already satisfied: pytz>=2020.1 in /usr/local/lib/python3.10/dist-packages (from pandas>=1.4->libpysal>=4.0.0->mgwr) (2023.3.post1)\n",
            "Requirement already satisfied: joblib>=1.1.1 in /usr/local/lib/python3.10/dist-packages (from scikit-learn>=0.22->spreg->mgwr) (1.3.2)\n",
            "Requirement already satisfied: threadpoolctl>=2.0.0 in /usr/local/lib/python3.10/dist-packages (from scikit-learn>=0.22->spreg->mgwr) (3.2.0)\n",
            "Requirement already satisfied: charset-normalizer<4,>=2 in /usr/local/lib/python3.10/dist-packages (from requests->libpysal>=4.0.0->mgwr) (3.3.1)\n",
            "Requirement already satisfied: idna<4,>=2.5 in /usr/local/lib/python3.10/dist-packages (from requests->libpysal>=4.0.0->mgwr) (3.4)\n",
            "Requirement already satisfied: urllib3<3,>=1.21.1 in /usr/local/lib/python3.10/dist-packages (from requests->libpysal>=4.0.0->mgwr) (2.0.7)\n",
            "Requirement already satisfied: certifi>=2017.4.17 in /usr/local/lib/python3.10/dist-packages (from requests->libpysal>=4.0.0->mgwr) (2023.7.22)\n",
            "Requirement already satisfied: attrs>=19.2.0 in /usr/local/lib/python3.10/dist-packages (from fiona>=1.8.19->geopandas>=0.9->libpysal>=4.0.0->mgwr) (23.1.0)\n",
            "Requirement already satisfied: click~=8.0 in /usr/local/lib/python3.10/dist-packages (from fiona>=1.8.19->geopandas>=0.9->libpysal>=4.0.0->mgwr) (8.1.7)\n",
            "Requirement already satisfied: click-plugins>=1.0 in /usr/local/lib/python3.10/dist-packages (from fiona>=1.8.19->geopandas>=0.9->libpysal>=4.0.0->mgwr) (1.1.1)\n",
            "Requirement already satisfied: cligj>=0.5 in /usr/local/lib/python3.10/dist-packages (from fiona>=1.8.19->geopandas>=0.9->libpysal>=4.0.0->mgwr) (0.7.2)\n",
            "Requirement already satisfied: six in /usr/local/lib/python3.10/dist-packages (from fiona>=1.8.19->geopandas>=0.9->libpysal>=4.0.0->mgwr) (1.16.0)\n",
            "Requirement already satisfied: setuptools in /usr/local/lib/python3.10/dist-packages (from fiona>=1.8.19->geopandas>=0.9->libpysal>=4.0.0->mgwr) (67.7.2)\n"
          ]
        }
      ],
      "source": [
        "!pip install mgwr"
      ]
    },
    {
      "cell_type": "code",
      "execution_count": 7,
      "metadata": {
        "id": "dnXLZktdxCV8"
      },
      "outputs": [],
      "source": [
        "import sys\n",
        "import numpy as np\n",
        "import statsmodels.api as sm\n",
        "import matplotlib.pyplot as plt\n",
        "import geopandas as gp\n",
        "import pandas as pd\n",
        "import libpysal as ps\n",
        "\n",
        "\n",
        "from mgwr.gwr import GWR,MGWR\n",
        "from mgwr.sel_bw import Sel_BW"
      ]
    },
    {
      "cell_type": "code",
      "execution_count": 28,
      "metadata": {
        "id": "K-AzoCDMxCV8"
      },
      "outputs": [],
      "source": [
        "#Load Georgia dataset\n",
        "georgia_shp = gp.read_file(ps.examples.get_path('G_utm.shp'))"
      ]
    },
    {
      "cell_type": "code",
      "execution_count": 29,
      "metadata": {
        "colab": {
          "base_uri": "https://localhost:8080/",
          "height": 293
        },
        "id": "4tYC8b19xCV9",
        "outputId": "8be672ec-186a-4cb5-c564-398e91ee8866"
      },
      "outputs": [
        {
          "output_type": "execute_result",
          "data": {
            "text/plain": [
              "           AREA  PERIMETER  G_UTM_  G_UTM_ID  Latitude  Longitud  TotPop90  \\\n",
              "0  1.331370e+09   207205.0     132       133  31.75339 -82.28558     15744   \n",
              "1  8.929300e+08   154640.0     157       158  31.29486 -82.87474      6213   \n",
              "2  7.434020e+08   130431.0     148       146  31.55678 -82.45115      9566   \n",
              "3  9.053950e+08   185737.0     158       155  31.33084 -84.45401      3615   \n",
              "4  6.941830e+08   151347.0      76        79  33.07193 -83.25085     39530   \n",
              "\n",
              "   PctRural  PctBach  PctEld  PctFB  PctPov  PctBlack         X        Y  \\\n",
              "0      75.6      8.2   11.43   0.64    19.9     20.76  941396.6  3521764   \n",
              "1     100.0      6.4   11.77   1.58    26.0     26.86  895553.0  3471916   \n",
              "2      61.7      6.6   11.11   0.27    24.1     15.42  930946.4  3502787   \n",
              "3     100.0      9.4   13.17   0.11    24.8     51.67  745398.6  3474765   \n",
              "4      42.7     13.3    8.64   1.43    17.5     42.39  849431.3  3665553   \n",
              "\n",
              "   AreaKey                                           geometry  \n",
              "0    13001  POLYGON ((931869.062 3545540.500, 934111.625 3...  \n",
              "1    13003  POLYGON ((867016.312 3482416.000, 884309.375 3...  \n",
              "2    13005  POLYGON ((914656.875 3512190.000, 924718.375 3...  \n",
              "3    13007  POLYGON ((744258.625 3480598.500, 765025.062 3...  \n",
              "4    13009  POLYGON ((832974.188 3677273.500, 834048.688 3...  "
            ],
            "text/html": [
              "\n",
              "  <div id=\"df-7f9834ec-7360-49a7-8475-d644af11f27f\" class=\"colab-df-container\">\n",
              "    <div>\n",
              "<style scoped>\n",
              "    .dataframe tbody tr th:only-of-type {\n",
              "        vertical-align: middle;\n",
              "    }\n",
              "\n",
              "    .dataframe tbody tr th {\n",
              "        vertical-align: top;\n",
              "    }\n",
              "\n",
              "    .dataframe thead th {\n",
              "        text-align: right;\n",
              "    }\n",
              "</style>\n",
              "<table border=\"1\" class=\"dataframe\">\n",
              "  <thead>\n",
              "    <tr style=\"text-align: right;\">\n",
              "      <th></th>\n",
              "      <th>AREA</th>\n",
              "      <th>PERIMETER</th>\n",
              "      <th>G_UTM_</th>\n",
              "      <th>G_UTM_ID</th>\n",
              "      <th>Latitude</th>\n",
              "      <th>Longitud</th>\n",
              "      <th>TotPop90</th>\n",
              "      <th>PctRural</th>\n",
              "      <th>PctBach</th>\n",
              "      <th>PctEld</th>\n",
              "      <th>PctFB</th>\n",
              "      <th>PctPov</th>\n",
              "      <th>PctBlack</th>\n",
              "      <th>X</th>\n",
              "      <th>Y</th>\n",
              "      <th>AreaKey</th>\n",
              "      <th>geometry</th>\n",
              "    </tr>\n",
              "  </thead>\n",
              "  <tbody>\n",
              "    <tr>\n",
              "      <th>0</th>\n",
              "      <td>1.331370e+09</td>\n",
              "      <td>207205.0</td>\n",
              "      <td>132</td>\n",
              "      <td>133</td>\n",
              "      <td>31.75339</td>\n",
              "      <td>-82.28558</td>\n",
              "      <td>15744</td>\n",
              "      <td>75.6</td>\n",
              "      <td>8.2</td>\n",
              "      <td>11.43</td>\n",
              "      <td>0.64</td>\n",
              "      <td>19.9</td>\n",
              "      <td>20.76</td>\n",
              "      <td>941396.6</td>\n",
              "      <td>3521764</td>\n",
              "      <td>13001</td>\n",
              "      <td>POLYGON ((931869.062 3545540.500, 934111.625 3...</td>\n",
              "    </tr>\n",
              "    <tr>\n",
              "      <th>1</th>\n",
              "      <td>8.929300e+08</td>\n",
              "      <td>154640.0</td>\n",
              "      <td>157</td>\n",
              "      <td>158</td>\n",
              "      <td>31.29486</td>\n",
              "      <td>-82.87474</td>\n",
              "      <td>6213</td>\n",
              "      <td>100.0</td>\n",
              "      <td>6.4</td>\n",
              "      <td>11.77</td>\n",
              "      <td>1.58</td>\n",
              "      <td>26.0</td>\n",
              "      <td>26.86</td>\n",
              "      <td>895553.0</td>\n",
              "      <td>3471916</td>\n",
              "      <td>13003</td>\n",
              "      <td>POLYGON ((867016.312 3482416.000, 884309.375 3...</td>\n",
              "    </tr>\n",
              "    <tr>\n",
              "      <th>2</th>\n",
              "      <td>7.434020e+08</td>\n",
              "      <td>130431.0</td>\n",
              "      <td>148</td>\n",
              "      <td>146</td>\n",
              "      <td>31.55678</td>\n",
              "      <td>-82.45115</td>\n",
              "      <td>9566</td>\n",
              "      <td>61.7</td>\n",
              "      <td>6.6</td>\n",
              "      <td>11.11</td>\n",
              "      <td>0.27</td>\n",
              "      <td>24.1</td>\n",
              "      <td>15.42</td>\n",
              "      <td>930946.4</td>\n",
              "      <td>3502787</td>\n",
              "      <td>13005</td>\n",
              "      <td>POLYGON ((914656.875 3512190.000, 924718.375 3...</td>\n",
              "    </tr>\n",
              "    <tr>\n",
              "      <th>3</th>\n",
              "      <td>9.053950e+08</td>\n",
              "      <td>185737.0</td>\n",
              "      <td>158</td>\n",
              "      <td>155</td>\n",
              "      <td>31.33084</td>\n",
              "      <td>-84.45401</td>\n",
              "      <td>3615</td>\n",
              "      <td>100.0</td>\n",
              "      <td>9.4</td>\n",
              "      <td>13.17</td>\n",
              "      <td>0.11</td>\n",
              "      <td>24.8</td>\n",
              "      <td>51.67</td>\n",
              "      <td>745398.6</td>\n",
              "      <td>3474765</td>\n",
              "      <td>13007</td>\n",
              "      <td>POLYGON ((744258.625 3480598.500, 765025.062 3...</td>\n",
              "    </tr>\n",
              "    <tr>\n",
              "      <th>4</th>\n",
              "      <td>6.941830e+08</td>\n",
              "      <td>151347.0</td>\n",
              "      <td>76</td>\n",
              "      <td>79</td>\n",
              "      <td>33.07193</td>\n",
              "      <td>-83.25085</td>\n",
              "      <td>39530</td>\n",
              "      <td>42.7</td>\n",
              "      <td>13.3</td>\n",
              "      <td>8.64</td>\n",
              "      <td>1.43</td>\n",
              "      <td>17.5</td>\n",
              "      <td>42.39</td>\n",
              "      <td>849431.3</td>\n",
              "      <td>3665553</td>\n",
              "      <td>13009</td>\n",
              "      <td>POLYGON ((832974.188 3677273.500, 834048.688 3...</td>\n",
              "    </tr>\n",
              "  </tbody>\n",
              "</table>\n",
              "</div>\n",
              "    <div class=\"colab-df-buttons\">\n",
              "\n",
              "  <div class=\"colab-df-container\">\n",
              "    <button class=\"colab-df-convert\" onclick=\"convertToInteractive('df-7f9834ec-7360-49a7-8475-d644af11f27f')\"\n",
              "            title=\"Convert this dataframe to an interactive table.\"\n",
              "            style=\"display:none;\">\n",
              "\n",
              "  <svg xmlns=\"http://www.w3.org/2000/svg\" height=\"24px\" viewBox=\"0 -960 960 960\">\n",
              "    <path d=\"M120-120v-720h720v720H120Zm60-500h600v-160H180v160Zm220 220h160v-160H400v160Zm0 220h160v-160H400v160ZM180-400h160v-160H180v160Zm440 0h160v-160H620v160ZM180-180h160v-160H180v160Zm440 0h160v-160H620v160Z\"/>\n",
              "  </svg>\n",
              "    </button>\n",
              "\n",
              "  <style>\n",
              "    .colab-df-container {\n",
              "      display:flex;\n",
              "      gap: 12px;\n",
              "    }\n",
              "\n",
              "    .colab-df-convert {\n",
              "      background-color: #E8F0FE;\n",
              "      border: none;\n",
              "      border-radius: 50%;\n",
              "      cursor: pointer;\n",
              "      display: none;\n",
              "      fill: #1967D2;\n",
              "      height: 32px;\n",
              "      padding: 0 0 0 0;\n",
              "      width: 32px;\n",
              "    }\n",
              "\n",
              "    .colab-df-convert:hover {\n",
              "      background-color: #E2EBFA;\n",
              "      box-shadow: 0px 1px 2px rgba(60, 64, 67, 0.3), 0px 1px 3px 1px rgba(60, 64, 67, 0.15);\n",
              "      fill: #174EA6;\n",
              "    }\n",
              "\n",
              "    .colab-df-buttons div {\n",
              "      margin-bottom: 4px;\n",
              "    }\n",
              "\n",
              "    [theme=dark] .colab-df-convert {\n",
              "      background-color: #3B4455;\n",
              "      fill: #D2E3FC;\n",
              "    }\n",
              "\n",
              "    [theme=dark] .colab-df-convert:hover {\n",
              "      background-color: #434B5C;\n",
              "      box-shadow: 0px 1px 3px 1px rgba(0, 0, 0, 0.15);\n",
              "      filter: drop-shadow(0px 1px 2px rgba(0, 0, 0, 0.3));\n",
              "      fill: #FFFFFF;\n",
              "    }\n",
              "  </style>\n",
              "\n",
              "    <script>\n",
              "      const buttonEl =\n",
              "        document.querySelector('#df-7f9834ec-7360-49a7-8475-d644af11f27f button.colab-df-convert');\n",
              "      buttonEl.style.display =\n",
              "        google.colab.kernel.accessAllowed ? 'block' : 'none';\n",
              "\n",
              "      async function convertToInteractive(key) {\n",
              "        const element = document.querySelector('#df-7f9834ec-7360-49a7-8475-d644af11f27f');\n",
              "        const dataTable =\n",
              "          await google.colab.kernel.invokeFunction('convertToInteractive',\n",
              "                                                    [key], {});\n",
              "        if (!dataTable) return;\n",
              "\n",
              "        const docLinkHtml = 'Like what you see? Visit the ' +\n",
              "          '<a target=\"_blank\" href=https://colab.research.google.com/notebooks/data_table.ipynb>data table notebook</a>'\n",
              "          + ' to learn more about interactive tables.';\n",
              "        element.innerHTML = '';\n",
              "        dataTable['output_type'] = 'display_data';\n",
              "        await google.colab.output.renderOutput(dataTable, element);\n",
              "        const docLink = document.createElement('div');\n",
              "        docLink.innerHTML = docLinkHtml;\n",
              "        element.appendChild(docLink);\n",
              "      }\n",
              "    </script>\n",
              "  </div>\n",
              "\n",
              "\n",
              "<div id=\"df-19918b8b-6865-4d61-8e30-3f8445e2c960\">\n",
              "  <button class=\"colab-df-quickchart\" onclick=\"quickchart('df-19918b8b-6865-4d61-8e30-3f8445e2c960')\"\n",
              "            title=\"Suggest charts.\"\n",
              "            style=\"display:none;\">\n",
              "\n",
              "<svg xmlns=\"http://www.w3.org/2000/svg\" height=\"24px\"viewBox=\"0 0 24 24\"\n",
              "     width=\"24px\">\n",
              "    <g>\n",
              "        <path d=\"M19 3H5c-1.1 0-2 .9-2 2v14c0 1.1.9 2 2 2h14c1.1 0 2-.9 2-2V5c0-1.1-.9-2-2-2zM9 17H7v-7h2v7zm4 0h-2V7h2v10zm4 0h-2v-4h2v4z\"/>\n",
              "    </g>\n",
              "</svg>\n",
              "  </button>\n",
              "\n",
              "<style>\n",
              "  .colab-df-quickchart {\n",
              "      --bg-color: #E8F0FE;\n",
              "      --fill-color: #1967D2;\n",
              "      --hover-bg-color: #E2EBFA;\n",
              "      --hover-fill-color: #174EA6;\n",
              "      --disabled-fill-color: #AAA;\n",
              "      --disabled-bg-color: #DDD;\n",
              "  }\n",
              "\n",
              "  [theme=dark] .colab-df-quickchart {\n",
              "      --bg-color: #3B4455;\n",
              "      --fill-color: #D2E3FC;\n",
              "      --hover-bg-color: #434B5C;\n",
              "      --hover-fill-color: #FFFFFF;\n",
              "      --disabled-bg-color: #3B4455;\n",
              "      --disabled-fill-color: #666;\n",
              "  }\n",
              "\n",
              "  .colab-df-quickchart {\n",
              "    background-color: var(--bg-color);\n",
              "    border: none;\n",
              "    border-radius: 50%;\n",
              "    cursor: pointer;\n",
              "    display: none;\n",
              "    fill: var(--fill-color);\n",
              "    height: 32px;\n",
              "    padding: 0;\n",
              "    width: 32px;\n",
              "  }\n",
              "\n",
              "  .colab-df-quickchart:hover {\n",
              "    background-color: var(--hover-bg-color);\n",
              "    box-shadow: 0 1px 2px rgba(60, 64, 67, 0.3), 0 1px 3px 1px rgba(60, 64, 67, 0.15);\n",
              "    fill: var(--button-hover-fill-color);\n",
              "  }\n",
              "\n",
              "  .colab-df-quickchart-complete:disabled,\n",
              "  .colab-df-quickchart-complete:disabled:hover {\n",
              "    background-color: var(--disabled-bg-color);\n",
              "    fill: var(--disabled-fill-color);\n",
              "    box-shadow: none;\n",
              "  }\n",
              "\n",
              "  .colab-df-spinner {\n",
              "    border: 2px solid var(--fill-color);\n",
              "    border-color: transparent;\n",
              "    border-bottom-color: var(--fill-color);\n",
              "    animation:\n",
              "      spin 1s steps(1) infinite;\n",
              "  }\n",
              "\n",
              "  @keyframes spin {\n",
              "    0% {\n",
              "      border-color: transparent;\n",
              "      border-bottom-color: var(--fill-color);\n",
              "      border-left-color: var(--fill-color);\n",
              "    }\n",
              "    20% {\n",
              "      border-color: transparent;\n",
              "      border-left-color: var(--fill-color);\n",
              "      border-top-color: var(--fill-color);\n",
              "    }\n",
              "    30% {\n",
              "      border-color: transparent;\n",
              "      border-left-color: var(--fill-color);\n",
              "      border-top-color: var(--fill-color);\n",
              "      border-right-color: var(--fill-color);\n",
              "    }\n",
              "    40% {\n",
              "      border-color: transparent;\n",
              "      border-right-color: var(--fill-color);\n",
              "      border-top-color: var(--fill-color);\n",
              "    }\n",
              "    60% {\n",
              "      border-color: transparent;\n",
              "      border-right-color: var(--fill-color);\n",
              "    }\n",
              "    80% {\n",
              "      border-color: transparent;\n",
              "      border-right-color: var(--fill-color);\n",
              "      border-bottom-color: var(--fill-color);\n",
              "    }\n",
              "    90% {\n",
              "      border-color: transparent;\n",
              "      border-bottom-color: var(--fill-color);\n",
              "    }\n",
              "  }\n",
              "</style>\n",
              "\n",
              "  <script>\n",
              "    async function quickchart(key) {\n",
              "      const quickchartButtonEl =\n",
              "        document.querySelector('#' + key + ' button');\n",
              "      quickchartButtonEl.disabled = true;  // To prevent multiple clicks.\n",
              "      quickchartButtonEl.classList.add('colab-df-spinner');\n",
              "      try {\n",
              "        const charts = await google.colab.kernel.invokeFunction(\n",
              "            'suggestCharts', [key], {});\n",
              "      } catch (error) {\n",
              "        console.error('Error during call to suggestCharts:', error);\n",
              "      }\n",
              "      quickchartButtonEl.classList.remove('colab-df-spinner');\n",
              "      quickchartButtonEl.classList.add('colab-df-quickchart-complete');\n",
              "    }\n",
              "    (() => {\n",
              "      let quickchartButtonEl =\n",
              "        document.querySelector('#df-19918b8b-6865-4d61-8e30-3f8445e2c960 button');\n",
              "      quickchartButtonEl.style.display =\n",
              "        google.colab.kernel.accessAllowed ? 'block' : 'none';\n",
              "    })();\n",
              "  </script>\n",
              "</div>\n",
              "\n",
              "    </div>\n",
              "  </div>\n"
            ]
          },
          "metadata": {},
          "execution_count": 29
        }
      ],
      "source": [
        "georgia_shp.head()"
      ]
    },
    {
      "cell_type": "code",
      "execution_count": 30,
      "metadata": {
        "colab": {
          "base_uri": "https://localhost:8080/",
          "height": 496
        },
        "id": "sDhXCMvwxCV9",
        "outputId": "22cc5b03-18f2-4e4f-e86b-8074cd79dce2"
      },
      "outputs": [
        {
          "output_type": "execute_result",
          "data": {
            "text/plain": [
              "<Axes: >"
            ]
          },
          "metadata": {},
          "execution_count": 30
        },
        {
          "output_type": "display_data",
          "data": {
            "text/plain": [
              "<Figure size 500x500 with 1 Axes>"
            ],
            "image/png": "[encoded data removed]"
          },
          "metadata": {}
        }
      ],
      "source": [
        "fig, ax = plt.subplots(figsize=(5,5))\n",
        "georgia_shp.boundary.plot(ax=ax)\n",
        "georgia_shp.centroid.plot(ax=ax, c='black',markersize = 10)"
      ]
    },
    {
      "cell_type": "markdown",
      "metadata": {
        "id": "riW7moQrxCV9"
      },
      "source": [
        "A map of Georgia for reference\n",
        "(source:https://www.enchantedlearning.com/usa/states/georgia/map.GIF)\n",
        "\n",
        "\n",
        "<img src=https://www.enchantedlearning.com/usa/states/georgia/map.GIF width=\"200\" align=\"left\">"
      ]
    },
    {
      "cell_type": "code",
      "execution_count": 31,
      "metadata": {
        "colab": {
          "base_uri": "https://localhost:8080/",
          "height": 487
        },
        "id": "J6kaSn8wxCV9",
        "outputId": "cd53b55f-bb4d-41cc-e1b4-9edc0e6039cf"
      },
      "outputs": [
        {
          "output_type": "execute_result",
          "data": {
            "text/plain": [
              "Text(0.5, 1.0, 'PctBach')"
            ]
          },
          "metadata": {},
          "execution_count": 31
        },
        {
          "output_type": "display_data",
          "data": {
            "text/plain": [
              "<Figure size 640x480 with 2 Axes>"
            ],
            "image/png": "[encoded data removed]"
          },
          "metadata": {}
        }
      ],
      "source": [
        "georgia_shp.plot(column=\"PctBach\",legend=True)\n",
        "plt.title(\"PctBach\")"
      ]
    },
    {
      "cell_type": "markdown",
      "metadata": {
        "id": "rbNQwPvdxCV9"
      },
      "source": [
        "### Model specification:\n",
        "PctBach = b0 + b1 * PctFB + b2 * PctBlack + b3 * PctRural"
      ]
    },
    {
      "cell_type": "code",
      "execution_count": 12,
      "metadata": {
        "id": "aY4cnpO5xCV-"
      },
      "outputs": [],
      "source": [
        "#Prepare Georgia dataset inputs\n",
        "y = georgia_shp['PctBach'].values\n",
        "X = georgia_shp[['PctFB', 'PctBlack', 'PctRural']].values\n",
        "u = georgia_shp['X']\n",
        "v = georgia_shp['Y']\n",
        "\n",
        "coords = list(zip(u,v))"
      ]
    },
    {
      "cell_type": "markdown",
      "metadata": {
        "id": "SY3hbb0RxCV-"
      },
      "source": [
        "### Standardizing varaibles\n",
        "- Standardizing put the data at the same scale: mean of 0 and variance of 1\n",
        "- The magnitudes of the parameter estimates are comparable. Larger magnitude -> stronger relationship\n",
        "- If you calibrate an MGWR model, we have to standardize the data. Each bandwidth would describe the degree of spatial variation of each relationship."
      ]
    },
    {
      "cell_type": "code",
      "execution_count": 13,
      "metadata": {
        "id": "cEkGGeIyxCV-"
      },
      "outputs": [],
      "source": [
        "#Standardize variables\n",
        "X = (X - X.mean(axis=0)) / X.std(axis=0)\n",
        "y = (y - y.mean(axis=0)) / y.std(axis=0)\n",
        "y = y.reshape(-1,1)"
      ]
    },
    {
      "cell_type": "markdown",
      "metadata": {
        "id": "B_UhIjECxCV-"
      },
      "source": [
        "### Fitting a GWR model\n",
        "- Select the optimal bandwidths\n",
        "- Fit the model"
      ]
    },
    {
      "cell_type": "code",
      "execution_count": 14,
      "metadata": {
        "colab": {
          "base_uri": "https://localhost:8080/"
        },
        "id": "lwdrdkL-xCV-",
        "outputId": "2cae52c3-68dc-47c4-c0c6-7537dd5b2471"
      },
      "outputs": [
        {
          "output_type": "stream",
          "name": "stdout",
          "text": [
            "Selected optimal bandwidth is: 117.0\n"
          ]
        }
      ],
      "source": [
        "#Select the optimal bandwidth\n",
        "gwr_selector = Sel_BW(coords, y, X)\n",
        "gwr_bw = gwr_selector.search(bw_min=2)\n",
        "print(\"Selected optimal bandwidth is:\", gwr_bw)"
      ]
    },
    {
      "cell_type": "code",
      "execution_count": 15,
      "metadata": {
        "id": "7JQ7vzSPxCV_"
      },
      "outputs": [],
      "source": [
        "#Fit the model using the optimal bw\n",
        "gwr_results = GWR(coords, y, X, gwr_bw).fit()"
      ]
    },
    {
      "cell_type": "code",
      "execution_count": 16,
      "metadata": {
        "colab": {
          "base_uri": "https://localhost:8080/"
        },
        "id": "spAZZvs9xCV_",
        "outputId": "34bf71be-e911-4121-b6f0-6acbf7781f37"
      },
      "outputs": [
        {
          "output_type": "stream",
          "name": "stdout",
          "text": [
            "===========================================================================\n",
            "Model type                                                         Gaussian\n",
            "Number of observations:                                                 159\n",
            "Number of covariates:                                                     4\n",
            "\n",
            "Global Regression Results\n",
            "---------------------------------------------------------------------------\n",
            "Residual sum of squares:                                             71.793\n",
            "Log-likelihood:                                                    -162.399\n",
            "AIC:                                                                332.798\n",
            "AICc:                                                               335.191\n",
            "BIC:                                                               -713.887\n",
            "R2:                                                                   0.548\n",
            "Adj. R2:                                                              0.540\n",
            "\n",
            "Variable                              Est.         SE  t(Est/SE)    p-value\n",
            "------------------------------- ---------- ---------- ---------- ----------\n",
            "X0                                   0.000      0.054      0.000      1.000\n",
            "X1                                   0.458      0.066      6.988      0.000\n",
            "X2                                  -0.084      0.055     -1.525      0.127\n",
            "X3                                  -0.374      0.065     -5.734      0.000\n",
            "\n",
            "Geographically Weighted Regression (GWR) Results\n",
            "---------------------------------------------------------------------------\n",
            "Spatial kernel:                                           Adaptive bisquare\n",
            "Bandwidth used:                                                     117.000\n",
            "\n",
            "Diagnostic information\n",
            "---------------------------------------------------------------------------\n",
            "Residual sum of squares:                                             51.186\n",
            "Effective number of parameters (trace(S)):                           11.805\n",
            "Degree of freedom (n - trace(S)):                                   147.195\n",
            "Sigma estimate:                                                       0.590\n",
            "Log-likelihood:                                                    -135.503\n",
            "AIC:                                                                296.616\n",
            "AICc:                                                               299.051\n",
            "BIC:                                                                335.913\n",
            "R2:                                                                   0.678\n",
            "Adjusted R2:                                                          0.652\n",
            "Adj. alpha (95%):                                                     0.017\n",
            "Adj. critical t value (95%):                                          2.414\n",
            "\n",
            "Summary Statistics For GWR Parameter Estimates\n",
            "---------------------------------------------------------------------------\n",
            "Variable                   Mean        STD        Min     Median        Max\n",
            "-------------------- ---------- ---------- ---------- ---------- ----------\n",
            "X0                       -0.004      0.180     -0.296      0.111      0.208\n",
            "X1                        0.477      0.234      0.123      0.556      0.741\n",
            "X2                       -0.043      0.083     -0.170     -0.053      0.100\n",
            "X3                       -0.328      0.060     -0.464     -0.308     -0.241\n",
            "===========================================================================\n",
            "\n"
          ]
        }
      ],
      "source": [
        "gwr_results.summary()"
      ]
    },
    {
      "cell_type": "markdown",
      "metadata": {
        "id": "U5KEvOkSxCV_"
      },
      "source": [
        "### Write some mapping codes"
      ]
    },
    {
      "cell_type": "code",
      "execution_count": 17,
      "metadata": {
        "id": "7Sz8BDkGxCV_"
      },
      "outputs": [],
      "source": [
        "from mpl_toolkits.axes_grid1 import make_axes_locatable\n",
        "from mgwr.utils import shift_colormap,truncate_colormap\n",
        "from matplotlib import cm,colors\n",
        "\n",
        "def gwr_plots(result, gdf, names=[], filter_t=False):\n",
        "\n",
        "    fig, axs = plt.subplots(2,2, figsize=(10, 10))\n",
        "    axs = axs.ravel()\n",
        "\n",
        "    k = gwr_results.k\n",
        "\n",
        "    vmin = -0.8\n",
        "    vmax = 0.8\n",
        "\n",
        "    cmap = cm.get_cmap(\"coolwarm\")\n",
        "    norm = colors.BoundaryNorm(np.arange(-0.8,0.85,0.1),ncolors=256)\n",
        "\n",
        "    if (vmin < 0) & (vmax < 0):\n",
        "        cmap = truncate_colormap(cmap, 0.0, 0.5)\n",
        "    elif (vmin > 0) & (vmax > 0):\n",
        "        cmap = truncate_colormap(cmap, 0.5, 1.0)\n",
        "    else:\n",
        "        cmap = shift_colormap(cmap, start=0.0, midpoint=1 - vmax/(vmax + abs(vmin)), stop=1.)\n",
        "\n",
        "    for j in range(k):\n",
        "\n",
        "        pd.concat([gdf,pd.DataFrame(np.hstack([result.params,result.bse]))],axis=1).plot(ax=axs[j],column=j,vmin=vmin,vmax=vmax,\n",
        "                                                                                         cmap=\"bwr\",norm=norm,linewidth=0.1,edgecolor='white')\n",
        "        axs[j].set_title(\"Parameter estimates of \\n\" + names[j],fontsize=10)\n",
        "\n",
        "        if filter_t:\n",
        "            rslt_filtered_t = result.filter_tvals()\n",
        "            if (rslt_filtered_t[:,j] == 0).any():\n",
        "                gdf[rslt_filtered_t[:,j] == 0].plot(color='lightgrey', ax=axs[j],linewidth=0.1,edgecolor='white')\n",
        "\n",
        "        #plt.axis('off')\n",
        "\n",
        "    fig = axs[j].get_figure()\n",
        "    cax = fig.add_axes([0.99, 0.2, 0.025, 0.6])\n",
        "    sm = plt.cm.ScalarMappable(cmap=cmap,norm=norm)\n",
        "    # fake up the array of the scalar mappable. Urgh...\n",
        "    sm._A = []\n",
        "    fig.colorbar(sm, cax=cax)"
      ]
    },
    {
      "cell_type": "markdown",
      "metadata": {
        "id": "BL5oQlFdxCV_"
      },
      "source": [
        "#### Here are the maps of parameter estimates obtained from GWR. Each represent the spatial relationship between each predictor and PctBach.\n",
        "\n",
        "#### Positive (negative) relationships are shown in red (blue).\n",
        "#### Stronger relationship has a darker color."
      ]
    },
    {
      "cell_type": "code",
      "execution_count": 26,
      "metadata": {
        "id": "QwFT1h-VxCV_"
      },
      "outputs": [],
      "source": [
        "#gwr_plots(gwr_results, georgia_shp,names=['intercept','PctFB', 'PctBlack', 'PctRural']) #needs fixed"
      ]
    },
    {
      "cell_type": "markdown",
      "metadata": {
        "id": "wWCG8ThCxCWA"
      },
      "source": [
        "#### Here are the maps of **SIGNIFICANT (p<0.05)** parameter estimates. Grey locations are insignificant.\n"
      ]
    },
    {
      "cell_type": "code",
      "execution_count": 27,
      "metadata": {
        "id": "-DUVXFLfxCWA"
      },
      "outputs": [],
      "source": [
        "#gwr_plots(gwr_results, georgia_shp,names=['intercept','PctFB', 'PctBlack', 'PctRural'],filter_t=True)"
      ]
    },
    {
      "cell_type": "markdown",
      "metadata": {
        "id": "v1i-CeUQxCWA"
      },
      "source": [
        "### Fitting the MGWR model\n",
        "- Select the optimal bandwidths\n",
        "- Fit the model"
      ]
    },
    {
      "cell_type": "code",
      "execution_count": 21,
      "metadata": {
        "colab": {
          "base_uri": "https://localhost:8080/",
          "height": 66,
          "referenced_widgets": [
            "3509018b0e3f4689a846ef32c58203b4",
            "04745f289a8b4a3eb39dd3fa28263bb5",
            "86f189387d624c37964700b2021e9a42",
            "13058fcedd814a0eacf8193d6100601c",
            "1933afcab6cb4c5f9a245c514c7e9de8",
            "55f5667b7723407dbcdb0df6fc8a1ec9",
            "5ac3f1e5b3d14135a424327f12fdbd4f",
            "79d93765f91e42dda49467478bf4ade4",
            "5222b7fcc35f42cc9e146bb9162c231f",
            "5dc92b5ee46441e2869ad852b87e5a8c",
            "7ee7494ed46f4795b58f6deb3cf8f3a9"
          ]
        },
        "id": "cg_rrTi4xCWA",
        "outputId": "e035039d-f4c0-47cd-a2d1-bcb2ce481c59"
      },
      "outputs": [
        {
          "output_type": "display_data",
          "data": {
            "text/plain": [
              "Backfitting:   0%|          | 0/200 [00:00<?, ?it/s]"
            ],
            "application/vnd.jupyter.widget-view+json": {
              "version_major": 2,
              "version_minor": 0,
              "model_id": "3509018b0e3f4689a846ef32c58203b4"
            }
          },
          "metadata": {}
        },
        {
          "output_type": "stream",
          "name": "stdout",
          "text": [
            "[ 92. 101. 136. 158.]\n"
          ]
        }
      ],
      "source": [
        "mgwr_selector = Sel_BW(coords, y, X, multi=True)\n",
        "mgwr_bw = mgwr_selector.search(multi_bw_min=[2])\n",
        "print(mgwr_bw)"
      ]
    },
    {
      "cell_type": "code",
      "execution_count": 22,
      "metadata": {
        "colab": {
          "base_uri": "https://localhost:8080/",
          "height": 49,
          "referenced_widgets": [
            "37cb77798e634369981d050b258516de",
            "b05d13a66ffa48d88b018e55efab7f73",
            "7354274fa2c24f7f94b80a929801e694",
            "b6b2a39ce4284567a611273ecda1c267",
            "6ebf62034fb64f418d7da248b7e6026d",
            "1c479b90afd6475880432c90a0aac96e",
            "57c6d9f9f0e340cbbc3d78dd7f1ad148",
            "d351a0d002444059a9a4e44ba86453bf",
            "e33beabfccf64895867f19764a8a6617",
            "036c6ded1c6f4cd79cba40dd41e4ced3",
            "fa3004a9db314685add8cc21a479cb39"
          ]
        },
        "id": "uWod2_s9xCWA",
        "outputId": "cacc59cc-00a7-4409-b2c6-7af0fa5aee19"
      },
      "outputs": [
        {
          "output_type": "display_data",
          "data": {
            "text/plain": [
              "Inference:   0%|          | 0/1 [00:00<?, ?it/s]"
            ],
            "application/vnd.jupyter.widget-view+json": {
              "version_major": 2,
              "version_minor": 0,
              "model_id": "37cb77798e634369981d050b258516de"
            }
          },
          "metadata": {}
        }
      ],
      "source": [
        "mgwr_results = MGWR(coords, y, X, mgwr_selector).fit()"
      ]
    },
    {
      "cell_type": "code",
      "execution_count": null,
      "metadata": {
        "id": "Ag6gulBcxCWA"
      },
      "outputs": [],
      "source": [
        "mgwr_results.summary()"
      ]
    },
    {
      "cell_type": "markdown",
      "metadata": {
        "id": "axcw6FMSxCWB"
      },
      "source": [
        "Model comparison\n",
        "\n",
        "\n",
        "|      | OLS   | GWR   | MGWR |   |\n",
        "|------|-------|-------|------|---|\n",
        "| AICc | 335   | 299   | 297  |   |\n",
        "| R2   | 0.548 | 0.678 | 0.68 |   |\n",
        "|      |       |       |      |   |"
      ]
    },
    {
      "cell_type": "code",
      "execution_count": null,
      "metadata": {
        "id": "r0uCMIKcxCWB"
      },
      "outputs": [],
      "source": [
        "gwr_plots(mgwr_results, georgia_shp,names=['intercept','PctFB', 'PctBlack', 'PctRural'])"
      ]
    },
    {
      "cell_type": "code",
      "execution_count": null,
      "metadata": {
        "id": "0wPjAaJ8xCWB"
      },
      "outputs": [],
      "source": [
        "gwr_plots(mgwr_results, georgia_shp,names=['intercept','PctFB', 'PctBlack', 'PctRural'],filter_t=True)"
      ]
    },
    {
      "cell_type": "code",
      "execution_count": null,
      "metadata": {
        "id": "F9RgdZGnxCWB"
      },
      "outputs": [],
      "source": []
    },
    {
      "cell_type": "code",
      "execution_count": null,
      "metadata": {
        "id": "o_XB_OrtxCWB"
      },
      "outputs": [],
      "source": []
    },
    {
      "cell_type": "code",
      "execution_count": null,
      "metadata": {
        "id": "GHQ9_8lbxCWB"
      },
      "outputs": [],
      "source": []
    }
  ],
  "metadata": {
    "kernelspec": {
      "display_name": "Python 3",
      "language": "python",
      "name": "python3"
    },
    "language_info": {
      "codemirror_mode": {
        "name": "ipython",
        "version": 3
      },
      "file_extension": ".py",
      "mimetype": "text/x-python",
      "name": "python",
      "nbconvert_exporter": "python",
      "pygments_lexer": "ipython3",
      "version": "3.7.6"
    },
    "colab": {
      "provenance": [],
      "include_colab_link": true
    },
    "widgets": {
      "application/vnd.jupyter.widget-state+json": {
        "3509018b0e3f4689a846ef32c58203b4": {
          "model_module": "@jupyter-widgets/controls",
          "model_name": "HBoxModel",
          "model_module_version": "1.5.0",
          "state": {
            "_dom_classes": [],
            "_model_module": "@jupyter-widgets/controls",
            "_model_module_version": "1.5.0",
            "_model_name": "HBoxModel",
            "_view_count": null,
            "_view_module": "@jupyter-widgets/controls",
            "_view_module_version": "1.5.0",
            "_view_name": "HBoxView",
            "box_style": "",
            "children": [
              "IPY_MODEL_04745f289a8b4a3eb39dd3fa28263bb5",
              "IPY_MODEL_86f189387d624c37964700b2021e9a42",
              "IPY_MODEL_13058fcedd814a0eacf8193d6100601c"
            ],
            "layout": "IPY_MODEL_1933afcab6cb4c5f9a245c514c7e9de8"
          }
        },
        "04745f289a8b4a3eb39dd3fa28263bb5": {
          "model_module": "@jupyter-widgets/controls",
          "model_name": "HTMLModel",
          "model_module_version": "1.5.0",
          "state": {
            "_dom_classes": [],
            "_model_module": "@jupyter-widgets/controls",
            "_model_module_version": "1.5.0",
            "_model_name": "HTMLModel",
            "_view_count": null,
            "_view_module": "@jupyter-widgets/controls",
            "_view_module_version": "1.5.0",
            "_view_name": "HTMLView",
            "description": "",
            "description_tooltip": null,
            "layout": "IPY_MODEL_55f5667b7723407dbcdb0df6fc8a1ec9",
            "placeholder": "​",
            "style": "IPY_MODEL_5ac3f1e5b3d14135a424327f12fdbd4f",
            "value": "Backfitting:   4%"
          }
        },
        "86f189387d624c37964700b2021e9a42": {
          "model_module": "@jupyter-widgets/controls",
          "model_name": "FloatProgressModel",
          "model_module_version": "1.5.0",
          "state": {
            "_dom_classes": [],
            "_model_module": "@jupyter-widgets/controls",
            "_model_module_version": "1.5.0",
            "_model_name": "FloatProgressModel",
            "_view_count": null,
            "_view_module": "@jupyter-widgets/controls",
            "_view_module_version": "1.5.0",
            "_view_name": "ProgressView",
            "bar_style": "danger",
            "description": "",
            "description_tooltip": null,
            "layout": "IPY_MODEL_79d93765f91e42dda49467478bf4ade4",
            "max": 200,
            "min": 0,
            "orientation": "horizontal",
            "style": "IPY_MODEL_5222b7fcc35f42cc9e146bb9162c231f",
            "value": 9
          }
        },
        "13058fcedd814a0eacf8193d6100601c": {
          "model_module": "@jupyter-widgets/controls",
          "model_name": "HTMLModel",
          "model_module_version": "1.5.0",
          "state": {
            "_dom_classes": [],
            "_model_module": "@jupyter-widgets/controls",
            "_model_module_version": "1.5.0",
            "_model_name": "HTMLModel",
            "_view_count": null,
            "_view_module": "@jupyter-widgets/controls",
            "_view_module_version": "1.5.0",
            "_view_name": "HTMLView",
            "description": "",
            "description_tooltip": null,
            "layout": "IPY_MODEL_5dc92b5ee46441e2869ad852b87e5a8c",
            "placeholder": "​",
            "style": "IPY_MODEL_7ee7494ed46f4795b58f6deb3cf8f3a9",
            "value": " 9/200 [00:26&lt;05:46,  1.81s/it]"
          }
        },
        "1933afcab6cb4c5f9a245c514c7e9de8": {
          "model_module": "@jupyter-widgets/base",
          "model_name": "LayoutModel",
          "model_module_version": "1.2.0",
          "state": {
            "_model_module": "@jupyter-widgets/base",
            "_model_module_version": "1.2.0",
            "_model_name": "LayoutModel",
            "_view_count": null,
            "_view_module": "@jupyter-widgets/base",
            "_view_module_version": "1.2.0",
            "_view_name": "LayoutView",
            "align_content": null,
            "align_items": null,
            "align_self": null,
            "border": null,
            "bottom": null,
            "display": null,
            "flex": null,
            "flex_flow": null,
            "grid_area": null,
            "grid_auto_columns": null,
            "grid_auto_flow": null,
            "grid_auto_rows": null,
            "grid_column": null,
            "grid_gap": null,
            "grid_row": null,
            "grid_template_areas": null,
            "grid_template_columns": null,
            "grid_template_rows": null,
            "height": null,
            "justify_content": null,
            "justify_items": null,
            "left": null,
            "margin": null,
            "max_height": null,
            "max_width": null,
            "min_height": null,
            "min_width": null,
            "object_fit": null,
            "object_position": null,
            "order": null,
            "overflow": null,
            "overflow_x": null,
            "overflow_y": null,
            "padding": null,
            "right": null,
            "top": null,
            "visibility": null,
            "width": null
          }
        },
        "55f5667b7723407dbcdb0df6fc8a1ec9": {
          "model_module": "@jupyter-widgets/base",
          "model_name": "LayoutModel",
          "model_module_version": "1.2.0",
          "state": {
            "_model_module": "@jupyter-widgets/base",
            "_model_module_version": "1.2.0",
            "_model_name": "LayoutModel",
            "_view_count": null,
            "_view_module": "@jupyter-widgets/base",
            "_view_module_version": "1.2.0",
            "_view_name": "LayoutView",
            "align_content": null,
            "align_items": null,
            "align_self": null,
            "border": null,
            "bottom": null,
            "display": null,
            "flex": null,
            "flex_flow": null,
            "grid_area": null,
            "grid_auto_columns": null,
            "grid_auto_flow": null,
            "grid_auto_rows": null,
            "grid_column": null,
            "grid_gap": null,
            "grid_row": null,
            "grid_template_areas": null,
            "grid_template_columns": null,
            "grid_template_rows": null,
            "height": null,
            "justify_content": null,
            "justify_items": null,
            "left": null,
            "margin": null,
            "max_height": null,
            "max_width": null,
            "min_height": null,
            "min_width": null,
            "object_fit": null,
            "object_position": null,
            "order": null,
            "overflow": null,
            "overflow_x": null,
            "overflow_y": null,
            "padding": null,
            "right": null,
            "top": null,
            "visibility": null,
            "width": null
          }
        },
        "5ac3f1e5b3d14135a424327f12fdbd4f": {
          "model_module": "@jupyter-widgets/controls",
          "model_name": "DescriptionStyleModel",
          "model_module_version": "1.5.0",
          "state": {
            "_model_module": "@jupyter-widgets/controls",
            "_model_module_version": "1.5.0",
            "_model_name": "DescriptionStyleModel",
            "_view_count": null,
            "_view_module": "@jupyter-widgets/base",
            "_view_module_version": "1.2.0",
            "_view_name": "StyleView",
            "description_width": ""
          }
        },
        "79d93765f91e42dda49467478bf4ade4": {
          "model_module": "@jupyter-widgets/base",
          "model_name": "LayoutModel",
          "model_module_version": "1.2.0",
          "state": {
            "_model_module": "@jupyter-widgets/base",
            "_model_module_version": "1.2.0",
            "_model_name": "LayoutModel",
            "_view_count": null,
            "_view_module": "@jupyter-widgets/base",
            "_view_module_version": "1.2.0",
            "_view_name": "LayoutView",
            "align_content": null,
            "align_items": null,
            "align_self": null,
            "border": null,
            "bottom": null,
            "display": null,
            "flex": null,
            "flex_flow": null,
            "grid_area": null,
            "grid_auto_columns": null,
            "grid_auto_flow": null,
            "grid_auto_rows": null,
            "grid_column": null,
            "grid_gap": null,
            "grid_row": null,
            "grid_template_areas": null,
            "grid_template_columns": null,
            "grid_template_rows": null,
            "height": null,
            "justify_content": null,
            "justify_items": null,
            "left": null,
            "margin": null,
            "max_height": null,
            "max_width": null,
            "min_height": null,
            "min_width": null,
            "object_fit": null,
            "object_position": null,
            "order": null,
            "overflow": null,
            "overflow_x": null,
            "overflow_y": null,
            "padding": null,
            "right": null,
            "top": null,
            "visibility": null,
            "width": null
          }
        },
        "5222b7fcc35f42cc9e146bb9162c231f": {
          "model_module": "@jupyter-widgets/controls",
          "model_name": "ProgressStyleModel",
          "model_module_version": "1.5.0",
          "state": {
            "_model_module": "@jupyter-widgets/controls",
            "_model_module_version": "1.5.0",
            "_model_name": "ProgressStyleModel",
            "_view_count": null,
            "_view_module": "@jupyter-widgets/base",
            "_view_module_version": "1.2.0",
            "_view_name": "StyleView",
            "bar_color": null,
            "description_width": ""
          }
        },
        "5dc92b5ee46441e2869ad852b87e5a8c": {
          "model_module": "@jupyter-widgets/base",
          "model_name": "LayoutModel",
          "model_module_version": "1.2.0",
          "state": {
            "_model_module": "@jupyter-widgets/base",
            "_model_module_version": "1.2.0",
            "_model_name": "LayoutModel",
            "_view_count": null,
            "_view_module": "@jupyter-widgets/base",
            "_view_module_version": "1.2.0",
            "_view_name": "LayoutView",
            "align_content": null,
            "align_items": null,
            "align_self": null,
            "border": null,
            "bottom": null,
            "display": null,
            "flex": null,
            "flex_flow": null,
            "grid_area": null,
            "grid_auto_columns": null,
            "grid_auto_flow": null,
            "grid_auto_rows": null,
            "grid_column": null,
            "grid_gap": null,
            "grid_row": null,
            "grid_template_areas": null,
            "grid_template_columns": null,
            "grid_template_rows": null,
            "height": null,
            "justify_content": null,
            "justify_items": null,
            "left": null,
            "margin": null,
            "max_height": null,
            "max_width": null,
            "min_height": null,
            "min_width": null,
            "object_fit": null,
            "object_position": null,
            "order": null,
            "overflow": null,
            "overflow_x": null,
            "overflow_y": null,
            "padding": null,
            "right": null,
            "top": null,
            "visibility": null,
            "width": null
          }
        },
        "7ee7494ed46f4795b58f6deb3cf8f3a9": {
          "model_module": "@jupyter-widgets/controls",
          "model_name": "DescriptionStyleModel",
          "model_module_version": "1.5.0",
          "state": {
            "_model_module": "@jupyter-widgets/controls",
            "_model_module_version": "1.5.0",
            "_model_name": "DescriptionStyleModel",
            "_view_count": null,
            "_view_module": "@jupyter-widgets/base",
            "_view_module_version": "1.2.0",
            "_view_name": "StyleView",
            "description_width": ""
          }
        },
        "37cb77798e634369981d050b258516de": {
          "model_module": "@jupyter-widgets/controls",
          "model_name": "HBoxModel",
          "model_module_version": "1.5.0",
          "state": {
            "_dom_classes": [],
            "_model_module": "@jupyter-widgets/controls",
            "_model_module_version": "1.5.0",
            "_model_name": "HBoxModel",
            "_view_count": null,
            "_view_module": "@jupyter-widgets/controls",
            "_view_module_version": "1.5.0",
            "_view_name": "HBoxView",
            "box_style": "",
            "children": [
              "IPY_MODEL_b05d13a66ffa48d88b018e55efab7f73",
              "IPY_MODEL_7354274fa2c24f7f94b80a929801e694",
              "IPY_MODEL_b6b2a39ce4284567a611273ecda1c267"
            ],
            "layout": "IPY_MODEL_6ebf62034fb64f418d7da248b7e6026d"
          }
        },
        "b05d13a66ffa48d88b018e55efab7f73": {
          "model_module": "@jupyter-widgets/controls",
          "model_name": "HTMLModel",
          "model_module_version": "1.5.0",
          "state": {
            "_dom_classes": [],
            "_model_module": "@jupyter-widgets/controls",
            "_model_module_version": "1.5.0",
            "_model_name": "HTMLModel",
            "_view_count": null,
            "_view_module": "@jupyter-widgets/controls",
            "_view_module_version": "1.5.0",
            "_view_name": "HTMLView",
            "description": "",
            "description_tooltip": null,
            "layout": "IPY_MODEL_1c479b90afd6475880432c90a0aac96e",
            "placeholder": "​",
            "style": "IPY_MODEL_57c6d9f9f0e340cbbc3d78dd7f1ad148",
            "value": "Inference: 100%"
          }
        },
        "7354274fa2c24f7f94b80a929801e694": {
          "model_module": "@jupyter-widgets/controls",
          "model_name": "FloatProgressModel",
          "model_module_version": "1.5.0",
          "state": {
            "_dom_classes": [],
            "_model_module": "@jupyter-widgets/controls",
            "_model_module_version": "1.5.0",
            "_model_name": "FloatProgressModel",
            "_view_count": null,
            "_view_module": "@jupyter-widgets/controls",
            "_view_module_version": "1.5.0",
            "_view_name": "ProgressView",
            "bar_style": "success",
            "description": "",
            "description_tooltip": null,
            "layout": "IPY_MODEL_d351a0d002444059a9a4e44ba86453bf",
            "max": 1,
            "min": 0,
            "orientation": "horizontal",
            "style": "IPY_MODEL_e33beabfccf64895867f19764a8a6617",
            "value": 1
          }
        },
        "b6b2a39ce4284567a611273ecda1c267": {
          "model_module": "@jupyter-widgets/controls",
          "model_name": "HTMLModel",
          "model_module_version": "1.5.0",
          "state": {
            "_dom_classes": [],
            "_model_module": "@jupyter-widgets/controls",
            "_model_module_version": "1.5.0",
            "_model_name": "HTMLModel",
            "_view_count": null,
            "_view_module": "@jupyter-widgets/controls",
            "_view_module_version": "1.5.0",
            "_view_name": "HTMLView",
            "description": "",
            "description_tooltip": null,
            "layout": "IPY_MODEL_036c6ded1c6f4cd79cba40dd41e4ced3",
            "placeholder": "​",
            "style": "IPY_MODEL_fa3004a9db314685add8cc21a479cb39",
            "value": " 1/1 [00:01&lt;00:00,  1.26s/it]"
          }
        },
        "6ebf62034fb64f418d7da248b7e6026d": {
          "model_module": "@jupyter-widgets/base",
          "model_name": "LayoutModel",
          "model_module_version": "1.2.0",
          "state": {
            "_model_module": "@jupyter-widgets/base",
            "_model_module_version": "1.2.0",
            "_model_name": "LayoutModel",
            "_view_count": null,
            "_view_module": "@jupyter-widgets/base",
            "_view_module_version": "1.2.0",
            "_view_name": "LayoutView",
            "align_content": null,
            "align_items": null,
            "align_self": null,
            "border": null,
            "bottom": null,
            "display": null,
            "flex": null,
            "flex_flow": null,
            "grid_area": null,
            "grid_auto_columns": null,
            "grid_auto_flow": null,
            "grid_auto_rows": null,
            "grid_column": null,
            "grid_gap": null,
            "grid_row": null,
            "grid_template_areas": null,
            "grid_template_columns": null,
            "grid_template_rows": null,
            "height": null,
            "justify_content": null,
            "justify_items": null,
            "left": null,
            "margin": null,
            "max_height": null,
            "max_width": null,
            "min_height": null,
            "min_width": null,
            "object_fit": null,
            "object_position": null,
            "order": null,
            "overflow": null,
            "overflow_x": null,
            "overflow_y": null,
            "padding": null,
            "right": null,
            "top": null,
            "visibility": null,
            "width": null
          }
        },
        "1c479b90afd6475880432c90a0aac96e": {
          "model_module": "@jupyter-widgets/base",
          "model_name": "LayoutModel",
          "model_module_version": "1.2.0",
          "state": {
            "_model_module": "@jupyter-widgets/base",
            "_model_module_version": "1.2.0",
            "_model_name": "LayoutModel",
            "_view_count": null,
            "_view_module": "@jupyter-widgets/base",
            "_view_module_version": "1.2.0",
            "_view_name": "LayoutView",
            "align_content": null,
            "align_items": null,
            "align_self": null,
            "border": null,
            "bottom": null,
            "display": null,
            "flex": null,
            "flex_flow": null,
            "grid_area": null,
            "grid_auto_columns": null,
            "grid_auto_flow": null,
            "grid_auto_rows": null,
            "grid_column": null,
            "grid_gap": null,
            "grid_row": null,
            "grid_template_areas": null,
            "grid_template_columns": null,
            "grid_template_rows": null,
            "height": null,
            "justify_content": null,
            "justify_items": null,
            "left": null,
            "margin": null,
            "max_height": null,
            "max_width": null,
            "min_height": null,
            "min_width": null,
            "object_fit": null,
            "object_position": null,
            "order": null,
            "overflow": null,
            "overflow_x": null,
            "overflow_y": null,
            "padding": null,
            "right": null,
            "top": null,
            "visibility": null,
            "width": null
          }
        },
        "57c6d9f9f0e340cbbc3d78dd7f1ad148": {
          "model_module": "@jupyter-widgets/controls",
          "model_name": "DescriptionStyleModel",
          "model_module_version": "1.5.0",
          "state": {
            "_model_module": "@jupyter-widgets/controls",
            "_model_module_version": "1.5.0",
            "_model_name": "DescriptionStyleModel",
            "_view_count": null,
            "_view_module": "@jupyter-widgets/base",
            "_view_module_version": "1.2.0",
            "_view_name": "StyleView",
            "description_width": ""
          }
        },
        "d351a0d002444059a9a4e44ba86453bf": {
          "model_module": "@jupyter-widgets/base",
          "model_name": "LayoutModel",
          "model_module_version": "1.2.0",
          "state": {
            "_model_module": "@jupyter-widgets/base",
            "_model_module_version": "1.2.0",
            "_model_name": "LayoutModel",
            "_view_count": null,
            "_view_module": "@jupyter-widgets/base",
            "_view_module_version": "1.2.0",
            "_view_name": "LayoutView",
            "align_content": null,
            "align_items": null,
            "align_self": null,
            "border": null,
            "bottom": null,
            "display": null,
            "flex": null,
            "flex_flow": null,
            "grid_area": null,
            "grid_auto_columns": null,
            "grid_auto_flow": null,
            "grid_auto_rows": null,
            "grid_column": null,
            "grid_gap": null,
            "grid_row": null,
            "grid_template_areas": null,
            "grid_template_columns": null,
            "grid_template_rows": null,
            "height": null,
            "justify_content": null,
            "justify_items": null,
            "left": null,
            "margin": null,
            "max_height": null,
            "max_width": null,
            "min_height": null,
            "min_width": null,
            "object_fit": null,
            "object_position": null,
            "order": null,
            "overflow": null,
            "overflow_x": null,
            "overflow_y": null,
            "padding": null,
            "right": null,
            "top": null,
            "visibility": null,
            "width": null
          }
        },
        "e33beabfccf64895867f19764a8a6617": {
          "model_module": "@jupyter-widgets/controls",
          "model_name": "ProgressStyleModel",
          "model_module_version": "1.5.0",
          "state": {
            "_model_module": "@jupyter-widgets/controls",
            "_model_module_version": "1.5.0",
            "_model_name": "ProgressStyleModel",
            "_view_count": null,
            "_view_module": "@jupyter-widgets/base",
            "_view_module_version": "1.2.0",
            "_view_name": "StyleView",
            "bar_color": null,
            "description_width": ""
          }
        },
        "036c6ded1c6f4cd79cba40dd41e4ced3": {
          "model_module": "@jupyter-widgets/base",
          "model_name": "LayoutModel",
          "model_module_version": "1.2.0",
          "state": {
            "_model_module": "@jupyter-widgets/base",
            "_model_module_version": "1.2.0",
            "_model_name": "LayoutModel",
            "_view_count": null,
            "_view_module": "@jupyter-widgets/base",
            "_view_module_version": "1.2.0",
            "_view_name": "LayoutView",
            "align_content": null,
            "align_items": null,
            "align_self": null,
            "border": null,
            "bottom": null,
            "display": null,
            "flex": null,
            "flex_flow": null,
            "grid_area": null,
            "grid_auto_columns": null,
            "grid_auto_flow": null,
            "grid_auto_rows": null,
            "grid_column": null,
            "grid_gap": null,
            "grid_row": null,
            "grid_template_areas": null,
            "grid_template_columns": null,
            "grid_template_rows": null,
            "height": null,
            "justify_content": null,
            "justify_items": null,
            "left": null,
            "margin": null,
            "max_height": null,
            "max_width": null,
            "min_height": null,
            "min_width": null,
            "object_fit": null,
            "object_position": null,
            "order": null,
            "overflow": null,
            "overflow_x": null,
            "overflow_y": null,
            "padding": null,
            "right": null,
            "top": null,
            "visibility": null,
            "width": null
          }
        },
        "fa3004a9db314685add8cc21a479cb39": {
          "model_module": "@jupyter-widgets/controls",
          "model_name": "DescriptionStyleModel",
          "model_module_version": "1.5.0",
          "state": {
            "_model_module": "@jupyter-widgets/controls",
            "_model_module_version": "1.5.0",
            "_model_name": "DescriptionStyleModel",
            "_view_count": null,
            "_view_module": "@jupyter-widgets/base",
            "_view_module_version": "1.2.0",
            "_view_name": "StyleView",
            "description_width": ""
          }
        }
      }
    }
  },
  "nbformat": 4,
  "nbformat_minor": 0
}